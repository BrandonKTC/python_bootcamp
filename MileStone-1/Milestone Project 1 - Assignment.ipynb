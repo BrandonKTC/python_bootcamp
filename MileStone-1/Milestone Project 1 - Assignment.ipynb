{
 "cells": [
  {
   "cell_type": "markdown",
   "metadata": {},
   "source": [
    "___\n",
    "\n",
    "<a href='https://www.udemy.com/user/joseportilla/'><img src='../Pierian_Data_Logo.png'/></a>\n",
    "___\n",
    "<center><em>Content Copyright by Pierian Data</em></center>"
   ]
  },
  {
   "cell_type": "markdown",
   "metadata": {},
   "source": [
    "# Milestone Project 1\n",
    "## Congratulations on making it to your first milestone!\n",
    "You've already learned a ton and are ready to work on a real project.\n",
    "\n",
    "Your assignment: Create a Tic Tac Toe game. You are free to use any IDE you like.\n",
    "\n",
    "Here are the requirements:\n",
    "\n",
    "* 2 players should be able to play the game (both sitting at the same computer)\n",
    "* The board should be printed out every time a player makes a move\n",
    "* You should be able to accept input of the player position and then place a symbol on the board\n",
    "\n",
    "Feel free to use Google to help you figure anything out (but don't just Google \"Tic Tac Toe in Python\" otherwise you won't learn anything!) Keep in mind that this project can take anywhere between several hours to several days.\n",
    "\n",
    "There are 4 Jupyter Notebooks related to this assignment:\n",
    "\n",
    "* This Assignment Notebook\n",
    "* A \"Walkthrough Steps Workbook\" Notebook\n",
    "* A \"Complete Walkthrough Solution\" Notebook\n",
    "* An \"Advanced Solution\" Notebook\n",
    "\n",
    "I encourage you to just try to start the project on your own without referencing any of the notebooks. If you get stuck, check out the next lecture which is a text lecture with helpful hints and steps. If you're still stuck after that, then check out the Walkthrough Steps Workbook, which breaks up the project in steps for you to solve. Still stuck? Then check out the Complete Walkthrough Solution video for more help on approaching the project!"
   ]
  },
  {
   "cell_type": "markdown",
   "metadata": {},
   "source": [
    "There are parts of this that will be a struggle...and that is good! I have complete faith that if you have made it this far through the course you have all the tools and knowledge to tackle this project. Remember, it's totally open book, so take your time, do a little research, and remember:\n",
    "\n",
    "## HAVE FUN!"
   ]
  },
  {
   "cell_type": "code",
   "execution_count": 30,
   "metadata": {},
   "outputs": [],
   "source": [
    "board = [[\"\",\"\",\"\"],[\"\",\"\",\"\"],[\"\",\"\",\"\"]]\n",
    "\n",
    "def display_board(board):\n",
    "    print(\"The First player to play is the X symbol\")\n",
    "    print(\"Here is the Tic Tac Toe board: \")\n",
    "    for row in board:\n",
    "        print(row)\n",
    "    print(\"\\n\")"
   ]
  },
  {
   "cell_type": "code",
   "execution_count": 5,
   "metadata": {},
   "outputs": [],
   "source": [
    "from IPython.display import clear_output"
   ]
  },
  {
   "cell_type": "code",
   "execution_count": 33,
   "metadata": {},
   "outputs": [],
   "source": [
    "def player_position():\n",
    "    \n",
    "    \n",
    "    \n",
    "    position = \"wrong\"\n",
    "    \n",
    "    print(\"Here are the different choice you have to play :\\n\")\n",
    "    \n",
    "    while position not in range(1,10):\n",
    "        \n",
    "        print(\"[7, 8, 9]\")\n",
    "        print(\"[4, 5, 6]\")\n",
    "        print(\"[1, 2, 3]\")\n",
    "        position = input(\"Where do you want to play ? \")\n",
    "        clear_output()\n",
    "        \n",
    "        if position.isdigit() == True:\n",
    "            position = int(position)\n",
    "            \n",
    "    return position"
   ]
  },
  {
   "cell_type": "code",
   "execution_count": 4,
   "metadata": {},
   "outputs": [
    {
     "name": "stdout",
     "output_type": "stream",
     "text": [
      "Here is the Tic Tac Toe board: \n",
      "['', '', '']\n",
      "['', 'X', '']\n",
      "['', '', '']\n"
     ]
    }
   ],
   "source": [
    "def player_turn(board, symbol, position):\n",
    "        \n",
    "    if position in range(1,4):\n",
    "        if position == 3:\n",
    "            board[0][2] = symbol\n",
    "        else:\n",
    "            board[0][position%3-1] = symbol\n",
    "    elif position in range(4,7):\n",
    "        if position == 6:\n",
    "            board[1][2] = symbol\n",
    "        else:\n",
    "            board[1][position%3-1] = symbol\n",
    "    elif position in range(7,10):\n",
    "        if position == 3:\n",
    "            board[2][2] = symbol\n",
    "        else:\n",
    "            board[2][position%3-1] = symbol\n",
    "    return board"
   ]
  },
  {
   "cell_type": "code",
   "execution_count": null,
   "metadata": {},
   "outputs": [],
   "source": []
  },
  {
   "cell_type": "code",
   "execution_count": 12,
   "metadata": {},
   "outputs": [
    {
     "name": "stdout",
     "output_type": "stream",
     "text": [
      "Do you want to play again (Y or N) ?: p\n",
      "I'm sorry I don't understand\n",
      "Do you want to play again (Y or N) ?: n\n"
     ]
    },
    {
     "data": {
      "text/plain": [
       "False"
      ]
     },
     "execution_count": 12,
     "metadata": {},
     "output_type": "execute_result"
    }
   ],
   "source": [
    "def play_again():\n",
    "    \n",
    "    play = \"wrong\"\n",
    "    \n",
    "    while play not in [\"Y\", \"N\"]:\n",
    "        \n",
    "        play = input(\"Do you want to play again (Y or N) ?: \").upper()\n",
    "        \n",
    "        if play not in [\"Y\", \"N\"]:\n",
    "            \n",
    "            print(\"I'm sorry I don't understand\")\n",
    "        \n",
    "    return play == \"Y\""
   ]
  },
  {
   "cell_type": "code",
   "execution_count": null,
   "metadata": {},
   "outputs": [
    {
     "name": "stdout",
     "output_type": "stream",
     "text": [
      "The First player to play is the X symbol\n",
      "Here is the Tic Tac Toe board: \n",
      "['', '', '']\n",
      "['', '', '']\n",
      "['', '', 'O']\n",
      "\n",
      "\n",
      "Here are the different choice you have to play :\n",
      "\n",
      "[7, 8, 9]\n",
      "[4, 5, 6]\n",
      "[1, 2, 3]\n"
     ]
    }
   ],
   "source": [
    "board = [[\"\",\"\",\"\"],[\"\",\"\",\"\"],[\"\",\"\",\"\"]]\n",
    "game_on = True\n",
    "\n",
    "while game_on:\n",
    "    \n",
    "    for i in range(9):\n",
    "        \n",
    "        if i%2 == 0:\n",
    "            symbol = \"X\"\n",
    "        else:\n",
    "            symbol = \"O\"\n",
    "            \n",
    "        display_board(board)\n",
    "        pos = player_position()\n",
    "        board = player_turn(board, symbol, pos)\n",
    "        \n",
    "        \n",
    "    game_on = play_again()"
   ]
  }
 ],
 "metadata": {
  "kernelspec": {
   "display_name": "Python 3 (ipykernel)",
   "language": "python",
   "name": "python3"
  },
  "language_info": {
   "codemirror_mode": {
    "name": "ipython",
    "version": 3
   },
   "file_extension": ".py",
   "mimetype": "text/x-python",
   "name": "python",
   "nbconvert_exporter": "python",
   "pygments_lexer": "ipython3",
   "version": "3.9.13"
  }
 },
 "nbformat": 4,
 "nbformat_minor": 1
}
