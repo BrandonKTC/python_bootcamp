{
 "cells": [
  {
   "cell_type": "code",
   "execution_count": 1,
   "id": "07b66fff",
   "metadata": {},
   "outputs": [
    {
     "data": {
      "text/plain": [
       "'/Users/brandonkwamou/Desktop/Python-3-Bootcamp/Advanced Python Modules'"
      ]
     },
     "execution_count": 1,
     "metadata": {},
     "output_type": "execute_result"
    }
   ],
   "source": [
    "pwd"
   ]
  },
  {
   "cell_type": "code",
   "execution_count": 2,
   "id": "1e1f416d",
   "metadata": {},
   "outputs": [],
   "source": [
    "f = open('practice.txt','w+')\n",
    "f.write('This is a test string')\n",
    "f.close()"
   ]
  },
  {
   "cell_type": "code",
   "execution_count": 3,
   "id": "45e262ab",
   "metadata": {},
   "outputs": [],
   "source": [
    "import os"
   ]
  },
  {
   "cell_type": "code",
   "execution_count": 4,
   "id": "0ffdb02f",
   "metadata": {},
   "outputs": [
    {
     "data": {
      "text/plain": [
       "'/Users/brandonkwamou/Desktop/Python-3-Bootcamp/Advanced Python Modules'"
      ]
     },
     "execution_count": 4,
     "metadata": {},
     "output_type": "execute_result"
    }
   ],
   "source": [
    "os.getcwd()"
   ]
  },
  {
   "cell_type": "code",
   "execution_count": 7,
   "id": "2635fce8",
   "metadata": {
    "collapsed": true
   },
   "outputs": [
    {
     "data": {
      "text/plain": [
       "['.config',\n",
       " 'Music',\n",
       " '.rest-client',\n",
       " '.condarc',\n",
       " '.docker',\n",
       " 'script.sql',\n",
       " '.DS_Store',\n",
       " 'nltk_data',\n",
       " '.CFUserTextEncoding',\n",
       " '.xonshrc',\n",
       " '.zshrc',\n",
       " 'Creative Cloud Files',\n",
       " 'Pictures',\n",
       " '.zprofile',\n",
       " 'Local Sites',\n",
       " '.zsh_history',\n",
       " '.ipython',\n",
       " 'Desktop',\n",
       " 'Library',\n",
       " '.matplotlib',\n",
       " 'start.sql',\n",
       " '.lesshst',\n",
       " 'iCloud Drive (Archive)',\n",
       " '.cups',\n",
       " 'Sites',\n",
       " 'Public',\n",
       " '.kube',\n",
       " '.tcshrc',\n",
       " '.anaconda',\n",
       " '.ssh',\n",
       " 'Movies',\n",
       " 'Applications',\n",
       " '.profile',\n",
       " 'opt',\n",
       " '.Trash',\n",
       " '.jupyter',\n",
       " '.npm',\n",
       " 'Documents',\n",
       " '.vscode',\n",
       " '.bash_profile',\n",
       " 'Downloads',\n",
       " '.python_history',\n",
       " '.continuum',\n",
       " '.cache',\n",
       " '.gitconfig',\n",
       " '.viminfo',\n",
       " '.zsh_sessions',\n",
       " '.conda',\n",
       " '.composer']"
      ]
     },
     "execution_count": 7,
     "metadata": {},
     "output_type": "execute_result"
    }
   ],
   "source": [
    "os.listdir('/Users/brandonkwamou')"
   ]
  },
  {
   "cell_type": "code",
   "execution_count": 8,
   "id": "b119697e",
   "metadata": {},
   "outputs": [],
   "source": [
    "import shutil"
   ]
  },
  {
   "cell_type": "code",
   "execution_count": 9,
   "id": "1e163c6f",
   "metadata": {},
   "outputs": [
    {
     "data": {
      "text/plain": [
       "'/Users/brandonkwamou/Desktop/practice.txt'"
      ]
     },
     "execution_count": 9,
     "metadata": {},
     "output_type": "execute_result"
    }
   ],
   "source": [
    "shutil.move('practice.txt','/Users/brandonkwamou/Desktop/')"
   ]
  },
  {
   "cell_type": "code",
   "execution_count": 10,
   "id": "c760dfbd",
   "metadata": {},
   "outputs": [
    {
     "data": {
      "text/plain": [
       "['skrzypczyk',\n",
       " 'scraping',\n",
       " 'Python-3-Bootcamp',\n",
       " 'docker',\n",
       " '.DS_Store',\n",
       " '.localized',\n",
       " 'practice.txt',\n",
       " 'html',\n",
       " 'php',\n",
       " 'Screenshot 2023-03-15 at 14.41.02.png',\n",
       " 'NLP_COURSE',\n",
       " 'python.py',\n",
       " 'gitCommand',\n",
       " 'docker-mastery',\n",
       " 'Advance CSS & SASS',\n",
       " 'django',\n",
       " '3J-2023']"
      ]
     },
     "execution_count": 10,
     "metadata": {},
     "output_type": "execute_result"
    }
   ],
   "source": [
    "os.listdir('/Users/brandonkwamou/Desktop/')"
   ]
  },
  {
   "cell_type": "code",
   "execution_count": 11,
   "id": "df4d8c4b",
   "metadata": {},
   "outputs": [
    {
     "name": "stdout",
     "output_type": "stream",
     "text": [
      "Requirement already satisfied: send2trash in /Users/brandonkwamou/opt/anaconda3/lib/python3.9/site-packages (1.8.0)\n",
      "Note: you may need to restart the kernel to use updated packages.\n"
     ]
    }
   ],
   "source": [
    "pip install send2trash"
   ]
  },
  {
   "cell_type": "code",
   "execution_count": 12,
   "id": "ff43832f",
   "metadata": {},
   "outputs": [],
   "source": [
    "import send2trash"
   ]
  },
  {
   "cell_type": "code",
   "execution_count": 15,
   "id": "62a6a660",
   "metadata": {},
   "outputs": [
    {
     "data": {
      "text/plain": [
       "['Untitled.ipynb', 'practice.txt', 'collections.ipynb', '.ipynb_checkpoints']"
      ]
     },
     "execution_count": 15,
     "metadata": {},
     "output_type": "execute_result"
    }
   ],
   "source": [
    "os.listdir()"
   ]
  },
  {
   "cell_type": "code",
   "execution_count": 14,
   "id": "513b91f8",
   "metadata": {},
   "outputs": [
    {
     "data": {
      "text/plain": [
       "'/Users/brandonkwamou/Desktop/Python-3-Bootcamp/Advanced Python Modules/practice.txt'"
      ]
     },
     "execution_count": 14,
     "metadata": {},
     "output_type": "execute_result"
    }
   ],
   "source": [
    "shutil.move('/Users/brandonkwamou/Desktop/practice.txt', os.getcwd())"
   ]
  },
  {
   "cell_type": "code",
   "execution_count": 16,
   "id": "5c505297",
   "metadata": {},
   "outputs": [],
   "source": [
    "send2trash.send2trash('practice.txt')"
   ]
  },
  {
   "cell_type": "code",
   "execution_count": 17,
   "id": "1624d562",
   "metadata": {},
   "outputs": [
    {
     "data": {
      "text/plain": [
       "['Untitled.ipynb', 'collections.ipynb', '.ipynb_checkpoints']"
      ]
     },
     "execution_count": 17,
     "metadata": {},
     "output_type": "execute_result"
    }
   ],
   "source": [
    "os.listdir()"
   ]
  },
  {
   "cell_type": "code",
   "execution_count": 18,
   "id": "cc61bd5a",
   "metadata": {},
   "outputs": [],
   "source": [
    "file_path = '/Users/brandonkwamou/Desktop/Python-3-Bootcamp/12-Advanced Python Modules/Example_Top_Level'"
   ]
  },
  {
   "cell_type": "code",
   "execution_count": 22,
   "id": "c5db385a",
   "metadata": {},
   "outputs": [
    {
     "name": "stdout",
     "output_type": "stream",
     "text": [
      "Currently looking at /Users/brandonkwamou/Desktop/Python-3-Bootcamp/12-Advanced Python Modules/Example_Top_Level\n",
      "\n",
      "\n",
      "\tThe subfolders are: \n",
      "\t Subfolder: Mid-Example-One\n",
      "\n",
      "\n",
      "\t\tThe files are:\n",
      "\t\t File: Mid-Example.txt\n",
      "\n",
      "\n",
      "Currently looking at /Users/brandonkwamou/Desktop/Python-3-Bootcamp/12-Advanced Python Modules/Example_Top_Level/Mid-Example-One\n",
      "\n",
      "\n",
      "\tThe subfolders are: \n",
      "\t Subfolder: Bottom-Level-Two\n",
      "\t Subfolder: Bottom-Level-One\n",
      "\n",
      "\n",
      "\t\tThe files are:\n",
      "\t\t File: Mid-Level-Doc.txt\n",
      "\n",
      "\n",
      "Currently looking at /Users/brandonkwamou/Desktop/Python-3-Bootcamp/12-Advanced Python Modules/Example_Top_Level/Mid-Example-One/Bottom-Level-Two\n",
      "\n",
      "\n",
      "\tThe subfolders are: \n",
      "\n",
      "\n",
      "\t\tThe files are:\n",
      "\t\t File: Bottom-Text-Two.txt\n",
      "\n",
      "\n",
      "Currently looking at /Users/brandonkwamou/Desktop/Python-3-Bootcamp/12-Advanced Python Modules/Example_Top_Level/Mid-Example-One/Bottom-Level-One\n",
      "\n",
      "\n",
      "\tThe subfolders are: \n",
      "\n",
      "\n",
      "\t\tThe files are:\n",
      "\t\t File: One_Text.txt\n",
      "\n",
      "\n"
     ]
    }
   ],
   "source": [
    "for folder, sub_folder, files in os.walk(file_path):\n",
    "    \n",
    "    print(f\"Currently looking at {folder}\")\n",
    "    print(\"\\n\")\n",
    "    print(\"\\tThe subfolders are: \")\n",
    "    for sub_fold in sub_folder:\n",
    "        print(f\"\\t Subfolder: {sub_fold}\")\n",
    "    \n",
    "    print(\"\\n\")\n",
    "    print(\"\\t\\tThe files are:\")\n",
    "    for f in files:\n",
    "        print(f\"\\t\\t File: {f}\")\n",
    "    print(\"\\n\")"
   ]
  }
 ],
 "metadata": {
  "kernelspec": {
   "display_name": "Python 3 (ipykernel)",
   "language": "python",
   "name": "python3"
  },
  "language_info": {
   "codemirror_mode": {
    "name": "ipython",
    "version": 3
   },
   "file_extension": ".py",
   "mimetype": "text/x-python",
   "name": "python",
   "nbconvert_exporter": "python",
   "pygments_lexer": "ipython3",
   "version": "3.9.13"
  }
 },
 "nbformat": 4,
 "nbformat_minor": 5
}
