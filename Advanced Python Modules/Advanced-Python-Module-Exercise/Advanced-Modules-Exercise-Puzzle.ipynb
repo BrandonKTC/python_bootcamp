{
 "cells": [
  {
   "cell_type": "markdown",
   "metadata": {},
   "source": [
    "___\n",
    "\n",
    "<a href='https://www.udemy.com/user/joseportilla/'><img src='../../Pierian_Data_Logo.png'/></a>\n",
    "___\n",
    "<center><em>Content Copyright by Pierian Data</em></center>"
   ]
  },
  {
   "cell_type": "markdown",
   "metadata": {},
   "source": [
    "# Advanced Modules Exercise Puzzle\n",
    "\n",
    "It's time to test your new skills, this puzzle project will combine multiple skills sets, including unzipping files with Python, using os module to automatically search through lots of files.\n",
    "\n",
    "## Your Goal\n",
    "\n",
    "This is a puzzle, so we don't want to give you too much guidance and instead have you figure out things on your own.\n",
    "\n",
    "There is a .zip file called 'unzip_me_for_instructions.zip', unzip it, open the .txt file with Python, read the instructions and see if you can figure out what you need to do!\n",
    "\n",
    "**If you get stuck or don't know where to start, here is a [guide/hints](https://docs.google.com/document/d/1JxydUr4n4fSR0EwwuwT-aHia-yPK6r-oTBuVT2sqheo/edit?usp=sharing)**"
   ]
  },
  {
   "cell_type": "code",
   "execution_count": 1,
   "metadata": {},
   "outputs": [],
   "source": [
    "import shutil"
   ]
  },
  {
   "cell_type": "code",
   "execution_count": 3,
   "metadata": {},
   "outputs": [],
   "source": [
    "shutil.unpack_archive('unzip_me_for_instructions.zip','example','zip')"
   ]
  },
  {
   "cell_type": "code",
   "execution_count": 4,
   "metadata": {},
   "outputs": [],
   "source": [
    "import os"
   ]
  },
  {
   "cell_type": "code",
   "execution_count": 67,
   "metadata": {},
   "outputs": [],
   "source": [
    "file_path = '/Users/brandonkwamou/Desktop/Python-3-Bootcamp/Advanced Python Modules/Advanced-Python-Module-Exercise/example/extracted_content'"
   ]
  },
  {
   "cell_type": "code",
   "execution_count": 11,
   "metadata": {},
   "outputs": [
    {
     "data": {
      "text/plain": [
       "['Instructions.txt', 'Three', 'One', 'Two', 'Five', 'Four']"
      ]
     },
     "execution_count": 11,
     "metadata": {},
     "output_type": "execute_result"
    }
   ],
   "source": [
    "os.listdir(\"example/extracted_content/\")"
   ]
  },
  {
   "cell_type": "code",
   "execution_count": 14,
   "metadata": {},
   "outputs": [
    {
     "name": "stdout",
     "output_type": "stream",
     "text": [
      "Good work on unzipping the file!\n",
      "You should now see 5 folders, each with a lot of random .txt files.\n",
      "Within one of these text files is a telephone number formated ###-###-#### \n",
      "Use the Python os module and regular expressions to iterate through each file, open it, and search for a telephone number.\n",
      "Good luck!\n"
     ]
    }
   ],
   "source": [
    "with open('example/extracted_content/Instructions.txt','r') as f:\n",
    "    file = f.read()\n",
    "print(file)"
   ]
  },
  {
   "cell_type": "code",
   "execution_count": 17,
   "metadata": {},
   "outputs": [],
   "source": [
    "import re"
   ]
  },
  {
   "cell_type": "code",
   "execution_count": 86,
   "metadata": {},
   "outputs": [
    {
     "name": "stdout",
     "output_type": "stream",
     "text": [
      "Currently looking at : /Users/brandonkwamou/Desktop/Python-3-Bootcamp/Advanced Python Modules/Advanced-Python-Module-Exercise/example/extracted_content\n",
      "\n",
      "\n",
      "Currently looking at : /Users/brandonkwamou/Desktop/Python-3-Bootcamp/Advanced Python Modules/Advanced-Python-Module-Exercise/example/extracted_content/Three\n",
      "\n",
      "\n",
      "Currently looking at : /Users/brandonkwamou/Desktop/Python-3-Bootcamp/Advanced Python Modules/Advanced-Python-Module-Exercise/example/extracted_content/One\n",
      "\n",
      "\n",
      "Currently looking at : /Users/brandonkwamou/Desktop/Python-3-Bootcamp/Advanced Python Modules/Advanced-Python-Module-Exercise/example/extracted_content/Two\n",
      "\n",
      "\n",
      "Currently looking at : /Users/brandonkwamou/Desktop/Python-3-Bootcamp/Advanced Python Modules/Advanced-Python-Module-Exercise/example/extracted_content/Five\n",
      "\n",
      "\n",
      "Currently looking at : /Users/brandonkwamou/Desktop/Python-3-Bootcamp/Advanced Python Modules/Advanced-Python-Module-Exercise/example/extracted_content/Four\n",
      "\n",
      "\n",
      "\tFile: EMTGPSXQEJX.txt\n",
      "\n",
      "\n",
      "Justocras est placerat dui nascetur, varius senectus aptent suscipit esse aliquip erat labore sociosqu consequat.Facilisinam iusto fames, praesent dictumstvivamus consecteturpraesent felis ipsumcurabitur imperdietaliquam egestasmauris pharetra.Tristique luctus urnamorbi quisque nec massaphasellus.Fringilla dictumstvivamus laoreetphasellus delenit.Ipsuminteger ultrices nonumy per gubergren natoque pharetra, labore semvestibulum vivamus donec massapellentesque.Veniam et ligula commodo aliquam fusce laoreetphasellus sem, labore parturient magnainteger eleifend odio elitduis.Leopraesent quod phasellus fermentumfusce, magna conubia mollis eirmod.Magnapraesent ipsuminteger soluta accusam.Etiam placerat venenatis nunc sodales, massapellentesque feugait dolores.Erosin neque eos, netus molestie takimata cras nisised nullam.Lacus nostra morbi.Lectusnullam lobortisetiam nihil iaculis fermentumfusce imperdietaliquam, semvestibulum sempermorbi nisi duimauris duis.Ullamcorper urna viverra mipellentesque massapellentesque arcumorbi, feugiat zzril aliquammauris 719-266-2837 cursus tation quam id.Magna nullasuspendisse, sodalessed inceptos facilisis taciti lectus.Scelerisque euismod, egestasmauris exerci sed dolor praesent pharetra facilisis.Aenean facilisinam malesuada torquent aptent, tempor temporsuspendisse assum pellentesque dictum quammaecenas quod dolor euismod.Te amet ante risus quammaecenas magna viverra, laoreetphasellus cras elit elitnunc sanctus sempermorbi luptatum.Class sem bibendum enim, conguenulla facilisisproin amet erosin bibendumin odio.Et assum sedfusce, porta elementum eratproin aaenean urnapraesent eos taciti.Duo tation id risus illum molestie, justocras massaphasellus zzril muspellentesque autem wisi pharetra curae nobis.Convallis ea dictumstvivamus, tation metus mollis taciti egestas.Tristique quod blandit mi, parturient interdumdonec sedfusce malesuada cursus elitvivamus auctor.Semper facilisisat vehicula nobis tortorcurabitur convallis.Volutpat wisi vestibulum sodalessed imperdiet nonumy.Euismod erat orci, sedfusce conguenulla pulvinarvestibulum interdumdonec.Euismod scelerisque varius orci, luctus wisi antesuspendisse accumsannulla dolor faucibus pharetra.Fusce et ad tincidunt qui aptent mollis, metusdonec pellentesque maecenas ametduis mauris soluta.Rebum mattis porta tristique placerat nisised eleifend viverra, imperdiet nequeetiam tortor lacus lectus amet conguenulla.Quod elitduis consecteturpraesent auctormauris dolores.Temporsuspendisse eget urnamorbi enimaliquam enimsed felis soluta, potenti proin accumsannulla porta exerci bibendum mazim.Eratproin tempor nondonec erat auctormauris, vivamus potenti feliscras nullamauris consetetur.Fermentumfusce erosin aliquet lectusnullam habitant odio illum dictumst, urnapraesent consetetur amet varius facilisicurabitur sapien ligula.Tempus turpis class telluspraesent enimnulla nullasuspendisse, conubia bibendumin variuscras enimaliquam urnapraesent euismod te vestibulumnulla quis.Leopraesent metus turpis, ut minulla id consectetuer.Tortorvestibulum facilisisproin lectusnullam fermentumfusce.Consectetuer eu, vestibulumnulla pulvinar semper volutpatut conguenulla.Bibendumin nullam.Erat purusvestibulum elitnunc facilisisat, enimsed telluspraesent penatibus.Assum stet cum, metus dignissim magnainteger arcu antesuspendisse.Nostrud enimaliquam bibendumin neque, fermentum posuere kasd nulla laoreet facilisisproin fusce vero sapien.Liber feugiat nam magnainteger.Conguenulla accumsan cras semvestibulum cum, eleifend mattis interdum pretium volutpatut dapibusnam congue erosin dis facilisinam.Torquent velit metusdonec est tincidunt, imperdietaliquam dapibusnam orci possim condimentum eos libero.Nostra mipellentesque a, nisi no luctus nulla auctormauris.Vulputate integer dolores enimnulla, massa vestibulumnulla consectetuer exerci ipsumcurabitur nulla duimauris facilisicurabitur etiam.Penatibus nunc vulputate mi facilisicurabitur massa, sed mipellentesque ipsumcurabitur duis hac.Te massa rhoncus feugiat dictumst semper lorem, posuere pharetra proin rebum ultrices bibendum vero.Interdum sed soluta maecenas clita pretium inceptos, mazim quis laoreetphasellus luctus urnamorbi.Eros nonummy nunc zzril veniam mazim, sea cum amet facilisis luctus gravida a dolore.Ex invidunt arcumorbi velit mi.\n",
      "\n",
      "\n",
      "\n"
     ]
    }
   ],
   "source": [
    "for folder, sub_folder, files in os.walk(file_path):\n",
    "    print(f'Currently looking at : {folder}')\n",
    "    print('\\n')\n",
    "    for file in files:\n",
    "        with open(os.path.join(folder, file), 'r') as f:\n",
    "            text = f.read()\n",
    "        if re.search('\\d{3}-\\d{3}-\\d{4}', text):\n",
    "            print(f'\\tFile: {file}')\n",
    "            print('\\n')\n",
    "            print(text)\n",
    "            print('\\n\\n')\n"
   ]
  }
 ],
 "metadata": {
  "anaconda-cloud": {},
  "kernelspec": {
   "display_name": "Python 3 (ipykernel)",
   "language": "python",
   "name": "python3"
  },
  "language_info": {
   "codemirror_mode": {
    "name": "ipython",
    "version": 3
   },
   "file_extension": ".py",
   "mimetype": "text/x-python",
   "name": "python",
   "nbconvert_exporter": "python",
   "pygments_lexer": "ipython3",
   "version": "3.9.13"
  }
 },
 "nbformat": 4,
 "nbformat_minor": 2
}
