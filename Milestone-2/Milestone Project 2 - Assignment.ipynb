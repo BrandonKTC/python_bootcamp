{
 "cells": [
  {
   "cell_type": "markdown",
   "metadata": {},
   "source": [
    "___\n",
    "\n",
    "<a href='https://www.udemy.com/user/joseportilla/'><img src='../Pierian_Data_Logo.png'/></a>\n",
    "___\n",
    "<center><em>Content Copyright by Pierian Data</em></center>"
   ]
  },
  {
   "cell_type": "markdown",
   "metadata": {},
   "source": [
    "# Milestone Project 2 - Blackjack Game\n",
    "In this milestone project you will be creating a Complete BlackJack Card Game in Python.\n",
    "\n",
    "Here are the requirements:\n",
    "\n",
    "* You need to create a simple text-based [BlackJack](https://en.wikipedia.org/wiki/Blackjack) game\n",
    "* The game needs to have one player versus an automated dealer.\n",
    "* The player can stand or hit.\n",
    "* The player must be able to pick their betting amount.\n",
    "* You need to keep track of the player's total money.\n",
    "* You need to alert the player of wins, losses, or busts, etc...\n",
    "\n",
    "And most importantly:\n",
    "\n",
    "* **You must use OOP and classes in some portion of your game. You can not just use functions in your game. Use classes to help you define the Deck and the Player's hand. There are many right ways to do this, so explore it well!**\n",
    "\n",
    "\n",
    "Feel free to expand this game. Try including multiple players. Try adding in Double-Down and card splits! Remember to you are free to use any resources you want and as always:\n",
    "\n",
    "# HAVE FUN!"
   ]
  },
  {
   "cell_type": "code",
   "execution_count": 1,
   "metadata": {},
   "outputs": [],
   "source": [
    "import random\n",
    "\n",
    "suits = ('Hearts', 'Diamonds', 'Spades', 'Clubs')\n",
    "ranks = ('Two', 'Three', 'Four', 'Five', 'Six', 'Seven', 'Eight', 'Nine', 'Ten', 'Jack', 'Queen', 'King', 'Ace')\n",
    "values = {'Two':2, 'Three':3, 'Four':4, 'Five':5, 'Six':6, 'Seven':7, 'Eight':8, \n",
    "            'Nine':9, 'Ten':10, 'Jack':10, 'Queen':10, 'King':10, 'Ace':11}"
   ]
  },
  {
   "cell_type": "code",
   "execution_count": 2,
   "metadata": {},
   "outputs": [],
   "source": [
    "class Card:\n",
    "    \n",
    "    def __init__(self, suit, rank):\n",
    "        \n",
    "        self.suit = suit\n",
    "        self.rank = rank\n",
    "        self.value = values[rank]\n",
    "        \n",
    "    def __str__(self):\n",
    "        return f\"{self.rank} of {self.suit}\""
   ]
  },
  {
   "cell_type": "code",
   "execution_count": 3,
   "metadata": {},
   "outputs": [],
   "source": [
    "class Deck:\n",
    "    \n",
    "    def __init__(self):\n",
    "        \n",
    "        self.all_cards = []\n",
    "        \n",
    "        for suit in suits:\n",
    "            for rank in ranks:\n",
    "                \n",
    "                created_card = Card(suit, rank)\n",
    "                self.all_cards.append(created_card)\n",
    "    \n",
    "    def shuffle(self):\n",
    "        \n",
    "        random.shuffle(self.all_cards)\n",
    "        \n",
    "    def deal_one(self):\n",
    "        \n",
    "        return self.all_cards.pop(0)"
   ]
  },
  {
   "cell_type": "code",
   "execution_count": 4,
   "metadata": {},
   "outputs": [],
   "source": [
    "new_deck = Deck()\n",
    "new_deck.shuffle()"
   ]
  },
  {
   "cell_type": "code",
   "execution_count": 5,
   "metadata": {},
   "outputs": [],
   "source": [
    "class Player:\n",
    "    \n",
    "    total = 0\n",
    "    \n",
    "    def __init__(self, name, bankroll):\n",
    "        \n",
    "        self.bankroll = bankroll\n",
    "        self.name = name\n",
    "        self.cards = []\n",
    "        \n",
    "    def hit(self, card):\n",
    "        self.cards.append(card)\n",
    "    \n",
    "    def add_total(self):\n",
    "        Player.total = 0\n",
    "        \n",
    "        for val in self.cards:\n",
    "            Player.total += val.value\n",
    "        \n",
    "        if Player.total > 21:\n",
    "            for card in self.cards:\n",
    "                if 'Ace' in card.rank:\n",
    "                    Player.total - 10\n",
    "                else:\n",
    "                    return Player.total\n",
    "\n",
    "        return Player.total"
   ]
  },
  {
   "cell_type": "code",
   "execution_count": 6,
   "metadata": {},
   "outputs": [],
   "source": [
    "class Dealer(Player):\n",
    "        \n",
    "    def __init__(self, name):\n",
    "        \n",
    "        self.name = name\n",
    "        self.cards = []"
   ]
  },
  {
   "cell_type": "code",
   "execution_count": 7,
   "metadata": {},
   "outputs": [],
   "source": [
    "new_deck = Deck()\n",
    "new_deck.shuffle()"
   ]
  },
  {
   "cell_type": "code",
   "execution_count": 8,
   "metadata": {},
   "outputs": [],
   "source": [
    "from IPython.display import clear_output"
   ]
  },
  {
   "cell_type": "code",
   "execution_count": 9,
   "metadata": {},
   "outputs": [],
   "source": [
    "def print_cards(player):\n",
    "    for card in player.cards: print(card)\n",
    "    "
   ]
  },
  {
   "cell_type": "code",
   "execution_count": 10,
   "metadata": {},
   "outputs": [],
   "source": [
    "def print_scores(player):\n",
    "    print(f\"{player.name} score: {player.add_total()}\")"
   ]
  },
  {
   "cell_type": "code",
   "execution_count": 11,
   "metadata": {},
   "outputs": [],
   "source": [
    "def dealer_card(dealer):\n",
    "    while dealer.add_total() <= 16:\n",
    "        dealer.hit(new_deck.deal_one())\n",
    "    \n",
    "    return dealer"
   ]
  },
  {
   "cell_type": "code",
   "execution_count": 12,
   "metadata": {},
   "outputs": [],
   "source": [
    "def final_score(player, dealer):\n",
    "    print(f\"dealer : {dealer.add_total()}\")\n",
    "    print(f\"player : {player.add_total()}\")\n",
    "    \n",
    "    if dealer.add_total() > player.add_total() or player.add_total() > 21:\n",
    "        print(\"You Lost\")\n",
    "    elif dealer.add_total() == player.add_total():\n",
    "        print(\"Draw\")\n",
    "    else:\n",
    "        print(\"You Win\")\n",
    "    "
   ]
  },
  {
   "cell_type": "code",
   "execution_count": 13,
   "metadata": {},
   "outputs": [],
   "source": [
    "def show_score(player, dealer, card=False):\n",
    "    clear_output()\n",
    "    print(\"Dealer has: \")\n",
    "    print(dealer) if card else print_cards(dealer)\n",
    "    print(f\"dealer score: {dealer.value}\") if card else print_scores(dealer)\n",
    "    print(\"\\n\")\n",
    "    print(f\"{player.name} has: \")\n",
    "    print_cards(player_1)\n",
    "    print_scores(player_1)\n",
    "    print(\"-----------------\")"
   ]
  },
  {
   "cell_type": "code",
   "execution_count": 15,
   "metadata": {},
   "outputs": [
    {
     "name": "stdout",
     "output_type": "stream",
     "text": [
      "Dealer has: \n",
      "Two of Hearts\n",
      "Three of Hearts\n",
      "Four of Hearts\n",
      "Five of Hearts\n",
      "Six of Hearts\n",
      "lucie score: 20\n",
      "\n",
      "\n",
      "james has: \n",
      "Seven of Hearts\n",
      "Eight of Hearts\n",
      "james score: 15\n",
      "-----------------\n",
      "dealer : 20\n",
      "player : 15\n",
      "You Lost\n"
     ]
    }
   ],
   "source": [
    "new_deck = Deck()\n",
    "player_1 = Player('james', 200)\n",
    "dealer = Dealer('lucie')\n",
    "\n",
    "dealer_card(dealer)\n",
    "\n",
    "player_1.hit(new_deck.deal_one())\n",
    "player_1.hit(new_deck.deal_one())\n",
    "    \n",
    "show_score(player_1, dealer.cards[0], card=True)\n",
    "\n",
    "game_on = True\n",
    "\n",
    "while game_on:\n",
    "\n",
    "    more = 'wrong'\n",
    "\n",
    "    while more != \"N\":\n",
    "\n",
    "        more = input(\"More Card ? (Y or N)\").upper()\n",
    "\n",
    "        if more == 'Y':\n",
    "\n",
    "            player_1.hit(new_deck.deal_one())\n",
    "            clear_output()\n",
    "            show_score(player_1, dealer.cards[0], card=True)\n",
    "            \n",
    "            if player_1.add_total() > 21:\n",
    "                game_on = False\n",
    "                break\n",
    "\n",
    "        else:\n",
    "            game_on = False\n",
    "            break\n",
    "\n",
    "show_score(player_1, dealer)\n",
    "final_score(player_1, dealer)"
   ]
  }
 ],
 "metadata": {
  "kernelspec": {
   "display_name": "Python 3 (ipykernel)",
   "language": "python",
   "name": "python3"
  },
  "language_info": {
   "codemirror_mode": {
    "name": "ipython",
    "version": 3
   },
   "file_extension": ".py",
   "mimetype": "text/x-python",
   "name": "python",
   "nbconvert_exporter": "python",
   "pygments_lexer": "ipython3",
   "version": "3.9.13"
  }
 },
 "nbformat": 4,
 "nbformat_minor": 1
}
